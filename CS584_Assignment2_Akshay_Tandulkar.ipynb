{
 "cells": [
  {
   "cell_type": "markdown",
   "metadata": {
    "id": "8iwaee_T-Urj"
   },
   "source": [
    "# Assignment 2 - Logistic Regression\n",
    "> **FULL MARKS = 10**\n",
    "\n",
    "In this assignment, you are going to implement your own logistic Regression function. Please notice **no** library versions of logistic regression are allowed. Follow the instructions, you will need to fill the blanks to make it functional. The process is similar to the previous assignment. "
   ]
  },
  {
   "cell_type": "markdown",
   "metadata": {
    "id": "FWwuN_B5D73w"
   },
   "source": [
    "***Initialization***"
   ]
  },
  {
   "cell_type": "markdown",
   "metadata": {
    "id": "-H_r0Tz6gu4c"
   },
   "source": [
    "*No more library allowed*"
   ]
  },
  {
   "cell_type": "code",
   "execution_count": 151,
   "metadata": {
    "id": "9M1DAu9XPY8E"
   },
   "outputs": [],
   "source": [
    "# load required library\n",
    "import matplotlib.pyplot as plt\n",
    "import numpy as np\n",
    "from sklearn.datasets import load_iris\n",
    "import scipy.optimize as opt"
   ]
  },
  {
   "cell_type": "markdown",
   "metadata": {
    "id": "4LdQ5yubLJld"
   },
   "source": [
    "Load data *(Do not modify)*\n",
    "_________\n",
    "\n",
    "We use 100 samples and 2 features. \n"
   ]
  },
  {
   "cell_type": "code",
   "execution_count": 152,
   "metadata": {
    "id": "ipOG3LQfjQMh",
    "pycharm": {
     "name": "#%%\n"
    }
   },
   "outputs": [],
   "source": [
    "x, y = load_iris(return_X_y=True)"
   ]
  },
  {
   "cell_type": "code",
   "execution_count": 153,
   "metadata": {
    "id": "7EpIS82ED4vr"
   },
   "outputs": [],
   "source": [
    "x=x[:100, :2] # class 0 and 1 balanced\n",
    "y=y[:100]"
   ]
  },
  {
   "cell_type": "markdown",
   "metadata": {
    "id": "33XtealSjQMk"
   },
   "source": [
    "**Visualize data**\n",
    "___________"
   ]
  },
  {
   "cell_type": "code",
   "execution_count": 154,
   "metadata": {
    "id": "V5KwBYiT-J3x"
   },
   "outputs": [],
   "source": [
    "# draw raw data\n",
    "def draw_data(x,y):\n",
    "    fig, ax = plt.subplots()\n",
    "    mark = ['x','.']\n",
    "    labels = ['class 0', 'class 1']\n",
    "    color = ['red','blue']\n",
    "    for g in np.unique(y):\n",
    "        ix = np.where(y == g)\n",
    "        ax.scatter(x[ix,0], x[ix,1], label = g, s = 100, marker=mark[g],c = color[g])\n",
    "    ax.legend(labels)\n",
    "    plt.xlabel('xlabel')\n",
    "    plt.ylabel('ylabel')\n",
    "    plt.title('title',fontsize = 20,pad = 20)\n",
    "    plt.show()\n",
    "    \n",
    "    #########################################################################\n",
    "    # Full Mark: 1                                                          #    \n",
    "    # TODO:                                                                 #\n",
    "    # 1. make a scatter plot of the raw data                                #\n",
    "    # 2. set title for the plot                                             #\n",
    "    # 3. set label for x,y axis                                             #\n",
    "    # Note, this scatter plot has two different type of points              #\n",
    "    #########################################################################\n",
    "\n",
    "\n",
    "\n",
    "    #########################################################################\n",
    "    #                       END OF YOUR CODE                                #\n",
    "    #########################################################################\n",
    "\n",
    "    # show plot\n"
   ]
  },
  {
   "cell_type": "markdown",
   "metadata": {
    "id": "6jyZEY2f-ZlQ"
   },
   "source": [
    "Your plot should be similar to the example below"
   ]
  },
  {
   "cell_type": "code",
   "execution_count": 155,
   "metadata": {
    "colab": {
     "base_uri": "https://localhost:8080/",
     "height": 314
    },
    "id": "0X1EdMDdMpHR",
    "outputId": "4131e8dd-dc6a-4c76-d36b-9d77579fa024"
   },
   "outputs": [
    {
     "data": {
      "image/png": "[encoded data removed]",
      "text/plain": [
       "<Figure size 432x288 with 1 Axes>"
      ]
     },
     "metadata": {
      "needs_background": "light"
     },
     "output_type": "display_data"
    }
   ],
   "source": [
    "draw_data(x,y)"
   ]
  },
  {
   "cell_type": "markdown",
   "metadata": {
    "id": "sknkLiYZjaJo"
   },
   "source": [
    "**Sigmoid function**\n",
    "________________"
   ]
  },
  {
   "cell_type": "code",
   "execution_count": 156,
   "metadata": {
    "id": "wszqzBT9xRgj"
   },
   "outputs": [],
   "source": [
    "# please do not modify this cell\n",
    "x = np.concatenate((np.array([np.ones(len(y))]).T, x), axis=1)\n",
    "theta = np.zeros(x.shape[1])"
   ]
  },
  {
   "cell_type": "markdown",
   "metadata": {
    "id": "qfM7gVinsixJ"
   },
   "source": [
    "**You can decide by yourselves whether to split the dataset to training and testing. The training and testing datasets spliting is not a part of the assignment 2 as you have done that in assignmnet 1. Without spliting, you can just report the accuracy on training dataset. **"
   ]
  },
  {
   "cell_type": "code",
   "execution_count": 157,
   "metadata": {
    "id": "AsCvUXe1jQMq",
    "pycharm": {
     "name": "#%%\n"
    }
   },
   "outputs": [],
   "source": [
    "# define sigmoid function\n",
    "# math: refer to https://en.wikipedia.org/wiki/Sigmoid_function or slides\n",
    "def sigmoid(theta, X):\n",
    "    h = np.dot(X, theta)\n",
    "    s = 1/ (1 + np.exp(-h))\n",
    "    #########################################################################\n",
    "    # FullS  Mark: 1                                                          # \n",
    "    # TODO:                                                                 #\n",
    "    # 1. implement the sigmoid function over input theta and X\n",
    "    #########################################################################\n",
    "    #########################################################################\n",
    "    #                       END OF YOUR CODE                                #\n",
    "    #########################################################################\n",
    "    return s"
   ]
  },
  {
   "cell_type": "markdown",
   "metadata": {
    "id": "4Layck69jdEU"
   },
   "source": [
    "**Cost function**\n",
    "____________"
   ]
  },
  {
   "cell_type": "code",
   "execution_count": 164,
   "metadata": {
    "id": "oUtUiAqBjQMw",
    "pycharm": {
     "name": "#%%\n"
    }
   },
   "outputs": [],
   "source": [
    "# define cost function with sigmoid function\n",
    "def cost(theta, X, y):\n",
    "    m = x.shape[0]\n",
    "    co = -(1 / m) * np.sum(\n",
    "        y * np.log(sigmoid(theta, x)) + (1 - y) * np.log(\n",
    "            1 - sigmoid(theta, x)))\n",
    "    return co\n",
    "    #########################################################################\n",
    "    # Full Mark: 2                                                          # \n",
    "    # TODO:                                                                 #\n",
    "    # 1. implement the cross entropy loss function with sigmoid             #\n",
    "    #########################################################################\n",
    "    \n",
    "    #########################################################################\n",
    "    #                       END OF YOUR CODE                                #\n",
    "    #########################################################################\n"
   ]
  },
  {
   "cell_type": "markdown",
   "metadata": {
    "id": "fw9RGgRojgzY"
   },
   "source": [
    "**Calculate gradients**\n",
    "________________"
   ]
  },
  {
   "cell_type": "code",
   "execution_count": 165,
   "metadata": {
    "id": "shm404iFjQM5",
    "pycharm": {
     "name": "#%%\n"
    }
   },
   "outputs": [],
   "source": [
    "# the gradient of the cost is a vector of the same length as θ where the jth element (for j = 0, 1, . . . , n)\n",
    "def gradient(theta, X, y):\n",
    "    m = X.shape[0]\n",
    "    grad = (1 / m) * np.dot(x.T, sigmoid(theta,   X) - y)\n",
    "    return grad\n",
    "    #########################################################################\n",
    "    # Full Mark: 2                                                          # \n",
    "    # TODO:                                                                 #\n",
    "    # 1. calculate the gradients using theta and sigmoid                    #\n",
    "    # Hint: X may need to be transposed to do matrix operation              #\n",
    "    #########################################################################\n",
    "    \n",
    "    #########################################################################\n",
    "    #                       END OF YOUR CODE                                #\n",
    "    #########################################################################\n",
    "    "
   ]
  },
  {
   "cell_type": "markdown",
   "metadata": {
    "id": "TzEZlyZjtYDJ"
   },
   "source": [
    "**Predicting**\n",
    "________________"
   ]
  },
  {
   "cell_type": "code",
   "execution_count": 166,
   "metadata": {
    "id": "4-hauHHLLyh-"
   },
   "outputs": [],
   "source": [
    "# predict for new X\n",
    "def predict(theta, X):\n",
    "    h = sigmoid(theta, X)\n",
    "    predict_labels = np.round(h).astype(int)\n",
    "    return predict_labels\n",
    "    #########################################################################\n",
    "    # Full Mark: 1                                                          # \n",
    "    # TODO:                                                                 #\n",
    "    # 1. predict the value using theta and sigmoid                          #\n",
    "    # 2. convert the predicted value to 0/1                                 #\n",
    "    # That's how it is called Logistic regression                           #\n",
    "    #########################################################################\n",
    "    \n",
    "    #########################################################################\n",
    "    #                       END OF YOUR CODE                                #\n",
    "    #########################################################################\n",
    "\n",
    "  "
   ]
  },
  {
   "cell_type": "markdown",
   "metadata": {
    "id": "nN9AOS3UtYsr"
   },
   "source": [
    "**Calculate accuracy**\n",
    "________________"
   ]
  },
  {
   "cell_type": "code",
   "execution_count": 161,
   "metadata": {
    "id": "ixEjN3TbwiPS"
   },
   "outputs": [],
   "source": [
    "# calculate accuracy\n",
    "def accurate(predictions, y):\n",
    "    accuracy_score = np.mean(predictions == y) * 100\n",
    "    return accuracy_score\n",
    "    #########################################################################\n",
    "    # Full Mark: 1                                                          # \n",
    "    # TODO:                                                                 #\n",
    "    # 1. calculate the accuracy value                                       #\n",
    "    # Note that you coud not import extra library                           #\n",
    "    #########################################################################\n",
    "    \n",
    "    #########################################################################\n",
    "    #                       END OF YOUR CODE                                #\n",
    "    #########################################################################\n",
    "  "
   ]
  },
  {
   "cell_type": "markdown",
   "metadata": {
    "id": "oXGba_YxMe3-"
   },
   "source": [
    "**Calling functions**\n",
    "________"
   ]
  },
  {
   "cell_type": "code",
   "execution_count": 167,
   "metadata": {
    "colab": {
     "base_uri": "https://localhost:8080/"
    },
    "id": "DAg50iSeMbdz",
    "outputId": "92a820a1-0012-4179-9d73-1f1ead7701c3"
   },
   "outputs": [
    {
     "name": "stdout",
     "output_type": "stream",
     "text": [
      "final cost is 0.05171662353011455\n",
      "accuracy is 99.0\n"
     ]
    },
    {
     "name": "stderr",
     "output_type": "stream",
     "text": [
      "C:\\Users\\Akshay t\\Anaconda3\\lib\\site-packages\\ipykernel_launcher.py:6: RuntimeWarning: divide by zero encountered in log\n",
      "  \n",
      "C:\\Users\\Akshay t\\Anaconda3\\lib\\site-packages\\ipykernel_launcher.py:6: RuntimeWarning: invalid value encountered in multiply\n",
      "  \n"
     ]
    }
   ],
   "source": [
    "# please do not modify this cell\n",
    "result = opt.fmin_tnc(func=cost, x0=theta, fprime=gradient, args=(x, y))\n",
    "final_theta = result[0]\n",
    "final_cost = cost(final_theta, x, y)\n",
    "predictions = predict(final_theta, x)\n",
    "accuracy = accurate(predictions, y)\n",
    "print(\"final cost is \" + str(final_cost))\n",
    "print(\"accuracy is \" + str(accuracy))"
   ]
  },
  {
   "cell_type": "markdown",
   "metadata": {
    "id": "5oqofQH5OKuj"
   },
   "source": [
    "**Decsion boudary** "
   ]
  },
  {
   "cell_type": "code",
   "execution_count": 168,
   "metadata": {},
   "outputs": [
    {
     "data": {
      "text/plain": [
       "array([-2.06867851,  5.37100885, -8.72280794])"
      ]
     },
     "execution_count": 168,
     "metadata": {},
     "output_type": "execute_result"
    }
   ],
   "source": [
    "final_theta"
   ]
  },
  {
   "cell_type": "code",
   "execution_count": 169,
   "metadata": {
    "id": "EBJmxm-Y4USK"
   },
   "outputs": [],
   "source": [
    "# draw decision boudary\n",
    "def draw_decision_boudary(final_theta,x,y):\n",
    "    fig, ax = plt.subplots()\n",
    "    mark = ['x','.']\n",
    "    labels = ['class 0', 'class 1']\n",
    "    color = ['red','blue']\n",
    "    for g in np.unique(y):\n",
    "        ix = np.where(y == g)\n",
    "        ax.scatter(x[ix,1], x[ix,2], label = g, s = 50, marker=mark[g],c = color[g])\n",
    "    ax.legend(labels)\n",
    "    plt.xlabel('xlabel')\n",
    "    plt.ylabel('ylabel')\n",
    "    plt.title('title',fontsize = 20,pad = 20)\n",
    "    plot_x = ([min(x[:,1]) - 2, max(x[:,1]) + 2])\n",
    "    plot_y =((-1/final_theta[2]) * (np.dot((final_theta[1]),(plot_x)) + final_theta[0]))\n",
    "    plt.plot(plot_x, plot_y, label = \"Decision_Boundary\")\n",
    "    plt.show()"
   ]
  },
  {
   "cell_type": "markdown",
   "metadata": {
    "id": "PkIodLiurfW-"
   },
   "source": [
    "Your plot should be similar to the example below"
   ]
  },
  {
   "cell_type": "code",
   "execution_count": 170,
   "metadata": {
    "id": "ButrhJxIuyqj"
   },
   "outputs": [
    {
     "data": {
      "image/png": "[encoded data removed]",
      "text/plain": [
       "<Figure size 432x288 with 1 Axes>"
      ]
     },
     "metadata": {
      "needs_background": "light"
     },
     "output_type": "display_data"
    }
   ],
   "source": [
    "draw_decision_boudary(final_theta,x,y)"
   ]
  },
  {
   "cell_type": "code",
   "execution_count": null,
   "metadata": {},
   "outputs": [],
   "source": []
  }
 ],
 "metadata": {
  "colab": {
   "collapsed_sections": [],
   "name": "CS584_Assignment2(5).ipynb",
   "provenance": []
  },
  "kernelspec": {
   "display_name": "Python 3",
   "language": "python",
   "name": "python3"
  },
  "language_info": {
   "codemirror_mode": {
    "name": "ipython",
    "version": 3
   },
   "file_extension": ".py",
   "mimetype": "text/x-python",
   "name": "python",
   "nbconvert_exporter": "python",
   "pygments_lexer": "ipython3",
   "version": "3.7.1"
  },
  "pycharm": {
   "stem_cell": {
    "cell_type": "raw",
    "metadata": {
     "collapsed": false
    },
    "source": []
   }
  }
 },
 "nbformat": 4,
 "nbformat_minor": 1
}
